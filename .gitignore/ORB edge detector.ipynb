{
 "cells": [
  {
   "cell_type": "code",
   "execution_count": null,
   "id": "c90417ed",
   "metadata": {},
   "outputs": [],
   "source": []
  },
  {
   "cell_type": "markdown",
   "id": "499e8615",
   "metadata": {},
   "source": [
    "# Chest X-Ray Images (Pneumonia) Classification"
   ]
  },
  {
   "cell_type": "markdown",
   "id": "35ba68c3",
   "metadata": {},
   "source": [
    "### Introduction\n",
    "By Ziv Ben Zvi 203966643 and Julian Rubinstein 204907901.\n",
    "\n",
    "Pneumonia is an inflammatory condition of the lung affecting primarily the small air sacs known as alveoli.\n",
    "Symptoms typically include some combination of productive or dry cough, chest pain, fever and difficulty breathing. The severity of the condition is variable. Pneumonia is usually caused by infection with viruses or bacteria and less commonly by other microorganisms, certain medications or conditions such as autoimmune diseases. Diagnosis is often based on symptoms and physical examination. Chest X-rays, blood tests, and culture of the sputum may help confirm the diagnosis.\n",
    "\n",
    "As mentioned above, a chest X-ray is a prominent and common way to identify pneumonia. Therefore, developing an accurate model for analyzing the results of a chest X-ray can be extremly helpful in succesfuly diagnosing pneumonia in patients. The following paper will discuss the development of such model and its subsuquent accuracy and efficacy in acomplishing this task. The learning proccess of this model uses the dataset provided in the kaggle competition [Chest X-Ray Images (Pneumonia)](https://www.kaggle.com/paultimothymooney/chest-xray-pneumonia/discussion) and will attempt to classify X-ray lung images to either normal or pneumonia. The dataset contains 5,840 chest X-Ray RGB images (JPEG) divided into NORMAL or PNEUMONIA folders."
   ]
  },
  {
   "cell_type": "markdown",
   "id": "413af16b",
   "metadata": {},
   "source": [
    "<img src=\"Inkedindex_LI.jpg\">"
   ]
  },
  {
   "cell_type": "markdown",
   "id": "4836a3e3",
   "metadata": {},
   "source": [
    "### Imports"
   ]
  },
  {
   "cell_type": "code",
   "execution_count": 115,
   "id": "da5427c5",
   "metadata": {},
   "outputs": [],
   "source": [
    "from glob import glob\n",
    "import pandas as pd\n",
    "import numpy as np\n",
    "import matplotlib.pyplot as plt\n",
    "import matplotlib\n",
    "import seaborn as sns\n",
    "from tqdm.auto import tqdm\n",
    "import cv2"
   ]
  },
  {
   "cell_type": "code",
   "execution_count": 116,
   "id": "4bc2838d",
   "metadata": {},
   "outputs": [],
   "source": [
    "import sklearn\n",
    "from tensorflow.keras.models import Sequential\n",
    "from tensorflow.keras.layers import Conv2D, MaxPooling2D\n",
    "from tensorflow.keras.layers import Activation, Dropout, Flatten, Dense\n",
    "from tensorflow.keras.callbacks import EarlyStopping, ReduceLROnPlateau\n",
    "from tensorflow.keras.utils import to_categorical\n",
    "from sklearn.model_selection import train_test_split\n",
    "from sklearn.decomposition import PCA"
   ]
  },
  {
   "cell_type": "markdown",
   "id": "d73c6838",
   "metadata": {},
   "source": [
    "### Loading Data and Data Processing"
   ]
  },
  {
   "cell_type": "markdown",
   "id": "a8c6d877",
   "metadata": {},
   "source": [
    "We define the data paths, compress the images by resizing them and then load the data to a list of 2d np arrays which represnt the images:"
   ]
  },
  {
   "cell_type": "code",
   "execution_count": 117,
   "id": "a953d4a0",
   "metadata": {},
   "outputs": [
    {
     "data": {
      "application/vnd.jupyter.widget-view+json": {
       "model_id": "098dca7195624782ad434ac6bda04ae4",
       "version_major": 2,
       "version_minor": 0
      },
      "text/plain": [
       "  0%|          | 0/1575 [00:00<?, ?it/s]"
      ]
     },
     "metadata": {},
     "output_type": "display_data"
    },
    {
     "data": {
      "application/vnd.jupyter.widget-view+json": {
       "model_id": "823e879c815c4467bd399bc27cd18c99",
       "version_major": 2,
       "version_minor": 0
      },
      "text/plain": [
       "  0%|          | 0/4265 [00:00<?, ?it/s]"
      ]
     },
     "metadata": {},
     "output_type": "display_data"
    }
   ],
   "source": [
    "#NORMAL_PATH = 'F:\\Dropbox\\Studies\\Computer Science\\DSseminar\\DSFinalProject\\Spyder\\chest_xray/DATA/NORMAL'\n",
    "#PNEUMONIA_PATH = 'F:\\Dropbox\\Studies\\Computer Science\\DSseminar\\DSFinalProject\\Spyder\\chest_xray/DATA/PNEUMONIA'\n",
    "NORMAL_PATH = 'chest_xray/DATA/NORMAL'\n",
    "PNEUMONIA_PATH = 'chest_xray/DATA/PNEUMONIA'\n",
    "\n",
    "NORMAL_FILES = glob(NORMAL_PATH + \"/*.jpeg\")\n",
    "PNEUMONIA_FILES = glob(PNEUMONIA_PATH + \"/*.jpeg\")\n",
    "\n",
    "normal_data = []\n",
    "pneumonia_data = []\n",
    "\n",
    "for file in tqdm(NORMAL_FILES):\n",
    "    image = cv2.imread(file)\n",
    "    image = cv2.resize(image, (100,60))\n",
    "    normal_data.append(image)\n",
    "\n",
    "for file in tqdm(PNEUMONIA_FILES):\n",
    "    image = cv2.imread(file)\n",
    "    image = cv2.resize(image, (100,60))\n",
    "    pneumonia_data.append(image)"
   ]
  },
  {
   "cell_type": "markdown",
   "id": "57988942",
   "metadata": {},
   "source": [
    "Let's print the size of both datasets and the shapes of the images:"
   ]
  },
  {
   "cell_type": "markdown",
   "id": "857e3390",
   "metadata": {},
   "source": [
    "### ORB - edge detection method"
   ]
  },
  {
   "cell_type": "markdown",
   "id": "05d01361",
   "metadata": {},
   "source": [
    "ORB stands for Oriented FAST and Rotated BRIEF, which are two algorithms used for feature extraction from an image. For our needs we will focus on the FAST method of The ORB algorithm, which means edge detection in an image. Our definition of an edge is as follow:<br>\n",
    "Given a pixel p of a 2D image, the algorithm compares the value of p to his surrounding 16 pixels that are in a circle around him. The pixel's value stands for brightness. The pixels surrounding p is then sorted into three categories:\n",
    "- Lighter than p\n",
    "- Darker than p \n",
    "- Similar to p\n",
    "\n",
    "In case of more than 8 pixels are brighter or darker than p, the pixel p is selected as a keypoint. Keypoints calculated by ORB algorithm gives us information of the location of determining edges in an image.<br>For our use, we would like to compare the amount of keypoints founded by ORB in normal and pneumonia images. Many keypoints will stand for high contrast between neighbour pixels in an image, where few keypoints will present low contrast between neighbour pixels."
   ]
  },
  {
   "cell_type": "code",
   "execution_count": 111,
   "id": "06ead22e",
   "metadata": {},
   "outputs": [],
   "source": [
    "orb = cv2.ORB_create(edgeThreshold=15,\n",
    "                     patchSize=31,\n",
    "                     nlevels=8,\n",
    "                     fastThreshold=20,\n",
    "                     scaleFactor=1.2,\n",
    "                     WTA_K=2,\n",
    "                     scoreType=cv2.ORB_HARRIS_SCORE,\n",
    "                     firstLevel=0,\n",
    "                     nfeatures=250)"
   ]
  },
  {
   "cell_type": "code",
   "execution_count": 112,
   "id": "8b252267",
   "metadata": {},
   "outputs": [],
   "source": [
    "normal_orb_data = []\n",
    "pneumonia_orb_data = []\n",
    "\n",
    "for image in normal_data:\n",
    "    normal_orb_data.append(cv2.cvtColor(image, cv2.COLOR_BGR2GRAY))\n",
    "    \n",
    "for image in pneumonia_data:\n",
    "    pneumonia_orb_data.append(cv2.cvtColor(image, cv2.COLOR_BGR2GRAY))"
   ]
  },
  {
   "cell_type": "code",
   "execution_count": 113,
   "id": "718ca6b3",
   "metadata": {},
   "outputs": [],
   "source": [
    "normal_orb_keypoints = []\n",
    "pneumonia_orb_keypoints = []\n",
    "\n",
    "for image in normal_orb_data:\n",
    "    keypoint, desc = orb.detectAndCompute(image,None)\n",
    "    normal_orb_keypoints.append(len(keypoint))\n",
    "    \n",
    "for image in pneumonia_orb_data:\n",
    "    keypoint, desc = orb.detectAndCompute(image,None)\n",
    "    pneumonia_orb_keypoints.append(len(keypoint))"
   ]
  },
  {
   "cell_type": "code",
   "execution_count": 114,
   "id": "1bc8fd14",
   "metadata": {},
   "outputs": [
    {
     "data": {
      "image/png": "[encoded data removed]",
      "text/plain": [
       "<Figure size 540.415x432 with 1 Axes>"
      ]
     },
     "metadata": {},
     "output_type": "display_data"
    }
   ],
   "source": [
    "normal_mean = int(np.mean(normal_orb_keypoints))\n",
    "pneumonia_mean = int(np.mean(pneumonia_orb_keypoints))\n",
    "\n",
    "normal_median = int(np.median(normal_orb_keypoints))\n",
    "pneumonia_median = int(np.median(pneumonia_orb_keypoints))\n",
    "\n",
    "normal_std = int(np.std(normal_orb_keypoints))\n",
    "pneumonia_std = int(np.std(pneumonia_orb_keypoints))\n",
    "    \n",
    "df  = pd.DataFrame({\"method\" : [\"average\", \"average\", \"median\", \"median\", \"standard deviation\", \"standard deviation\"],\n",
    "                    \"value\" : [normal_mean, pneumonia_mean, normal_median, pneumonia_median, normal_std, pneumonia_std],\n",
    "                    \"condition\" : [\"normal\", \"pneumonia\", \"normal\", \"pneumonia\", \"normal\", \"pneumonia\"]},\n",
    "                    index = [1, 2, 3, 4, 5, 6])\n",
    "\n",
    "plt.rcParams[\"figure.figsize\"] = (15,7)\n",
    "plot = sns.catplot(\n",
    "        data=df, kind=\"bar\",\n",
    "        x=\"method\", y=\"value\", hue=\"condition\", \n",
    "        ci=\"None\", palette=\"dark\", alpha=.6, height=6\n",
    "    )\n",
    "plot.despine(left=True)\n",
    "plot.set_axis_labels(\"\", \"Keypoints count\")\n",
    "plt.title(\"ORB edge detector\")    \n",
    "sns.set(font_scale=1.15)"
   ]
  },
  {
   "cell_type": "markdown",
   "id": "d4843cd8",
   "metadata": {},
   "source": [
    "As seen the normal images seems to have a more contrast between neighbour pixels, which means we are more likely to see dark and bright parts in a given normal image, while on pneumonia images we will probably observe monotonous brightness level."
   ]
  },
  {
   "cell_type": "code",
   "execution_count": null,
   "id": "32cc36d6",
   "metadata": {},
   "outputs": [],
   "source": []
  }
 ],
 "metadata": {
  "kernelspec": {
   "display_name": "Python 3",
   "language": "python",
   "name": "python3"
  },
  "language_info": {
   "codemirror_mode": {
    "name": "ipython",
    "version": 3
   },
   "file_extension": ".py",
   "mimetype": "text/x-python",
   "name": "python",
   "nbconvert_exporter": "python",
   "pygments_lexer": "ipython3",
   "version": "3.8.8"
  }
 },
 "nbformat": 4,
 "nbformat_minor": 5
}
